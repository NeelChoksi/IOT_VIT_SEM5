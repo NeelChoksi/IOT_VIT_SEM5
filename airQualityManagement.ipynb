{
 "cells": [
  {
   "cell_type": "code",
   "execution_count": 1,
   "id": "4433a518",
   "metadata": {},
   "outputs": [],
   "source": [
    "import pandas as pd"
   ]
  },
  {
   "cell_type": "code",
   "execution_count": 4,
   "id": "ebb96952",
   "metadata": {},
   "outputs": [],
   "source": [
    "data= pd.read_csv(r'D:\\IOT\\airQualityData.csv')"
   ]
  },
  {
   "cell_type": "code",
   "execution_count": 5,
   "id": "f0ee8315",
   "metadata": {},
   "outputs": [
    {
     "data": {
      "text/html": [
       "<div>\n",
       "<style scoped>\n",
       "    .dataframe tbody tr th:only-of-type {\n",
       "        vertical-align: middle;\n",
       "    }\n",
       "\n",
       "    .dataframe tbody tr th {\n",
       "        vertical-align: top;\n",
       "    }\n",
       "\n",
       "    .dataframe thead th {\n",
       "        text-align: right;\n",
       "    }\n",
       "</style>\n",
       "<table border=\"1\" class=\"dataframe\">\n",
       "  <thead>\n",
       "    <tr style=\"text-align: right;\">\n",
       "      <th></th>\n",
       "      <th>Date</th>\n",
       "      <th>Time</th>\n",
       "      <th>AirQuality</th>\n",
       "      <th>CO</th>\n",
       "      <th>Humidity</th>\n",
       "      <th>Temperature</th>\n",
       "    </tr>\n",
       "  </thead>\n",
       "  <tbody>\n",
       "    <tr>\n",
       "      <th>0</th>\n",
       "      <td>2021-12-01</td>\n",
       "      <td>13:07:40.612026</td>\n",
       "      <td>86</td>\n",
       "      <td>47</td>\n",
       "      <td>61.0</td>\n",
       "      <td>30.8</td>\n",
       "    </tr>\n",
       "    <tr>\n",
       "      <th>1</th>\n",
       "      <td>2021-12-01</td>\n",
       "      <td>13:07:40.628009</td>\n",
       "      <td>85</td>\n",
       "      <td>46</td>\n",
       "      <td>61.0</td>\n",
       "      <td>30.8</td>\n",
       "    </tr>\n",
       "    <tr>\n",
       "      <th>2</th>\n",
       "      <td>2021-12-01</td>\n",
       "      <td>13:07:42.083012</td>\n",
       "      <td>82</td>\n",
       "      <td>51</td>\n",
       "      <td>61.0</td>\n",
       "      <td>30.8</td>\n",
       "    </tr>\n",
       "    <tr>\n",
       "      <th>3</th>\n",
       "      <td>2021-12-01</td>\n",
       "      <td>13:07:43.601984</td>\n",
       "      <td>85</td>\n",
       "      <td>50</td>\n",
       "      <td>61.0</td>\n",
       "      <td>30.8</td>\n",
       "    </tr>\n",
       "    <tr>\n",
       "      <th>4</th>\n",
       "      <td>2021-12-01</td>\n",
       "      <td>13:07:45.105018</td>\n",
       "      <td>81</td>\n",
       "      <td>50</td>\n",
       "      <td>61.0</td>\n",
       "      <td>30.8</td>\n",
       "    </tr>\n",
       "    <tr>\n",
       "      <th>...</th>\n",
       "      <td>...</td>\n",
       "      <td>...</td>\n",
       "      <td>...</td>\n",
       "      <td>...</td>\n",
       "      <td>...</td>\n",
       "      <td>...</td>\n",
       "    </tr>\n",
       "    <tr>\n",
       "      <th>1141</th>\n",
       "      <td>2021-12-01</td>\n",
       "      <td>13:54:49.246432</td>\n",
       "      <td>93</td>\n",
       "      <td>55</td>\n",
       "      <td>67.0</td>\n",
       "      <td>31.3</td>\n",
       "    </tr>\n",
       "    <tr>\n",
       "      <th>1142</th>\n",
       "      <td>2021-12-01</td>\n",
       "      <td>13:54:51.277008</td>\n",
       "      <td>90</td>\n",
       "      <td>52</td>\n",
       "      <td>67.0</td>\n",
       "      <td>31.3</td>\n",
       "    </tr>\n",
       "    <tr>\n",
       "      <th>1143</th>\n",
       "      <td>2021-12-01</td>\n",
       "      <td>13:54:53.307616</td>\n",
       "      <td>93</td>\n",
       "      <td>56</td>\n",
       "      <td>67.0</td>\n",
       "      <td>31.3</td>\n",
       "    </tr>\n",
       "    <tr>\n",
       "      <th>1144</th>\n",
       "      <td>2021-12-01</td>\n",
       "      <td>13:54:55.338232</td>\n",
       "      <td>93</td>\n",
       "      <td>56</td>\n",
       "      <td>68.0</td>\n",
       "      <td>31.3</td>\n",
       "    </tr>\n",
       "    <tr>\n",
       "      <th>1145</th>\n",
       "      <td>2021-12-01</td>\n",
       "      <td>13:54:57.352952</td>\n",
       "      <td>93</td>\n",
       "      <td>54</td>\n",
       "      <td>68.0</td>\n",
       "      <td>31.3</td>\n",
       "    </tr>\n",
       "  </tbody>\n",
       "</table>\n",
       "<p>1146 rows × 6 columns</p>\n",
       "</div>"
      ],
      "text/plain": [
       "            Date             Time  AirQuality  CO  Humidity  Temperature\n",
       "0     2021-12-01  13:07:40.612026          86  47      61.0         30.8\n",
       "1     2021-12-01  13:07:40.628009          85  46      61.0         30.8\n",
       "2     2021-12-01  13:07:42.083012          82  51      61.0         30.8\n",
       "3     2021-12-01  13:07:43.601984          85  50      61.0         30.8\n",
       "4     2021-12-01  13:07:45.105018          81  50      61.0         30.8\n",
       "...          ...              ...         ...  ..       ...          ...\n",
       "1141  2021-12-01  13:54:49.246432          93  55      67.0         31.3\n",
       "1142  2021-12-01  13:54:51.277008          90  52      67.0         31.3\n",
       "1143  2021-12-01  13:54:53.307616          93  56      67.0         31.3\n",
       "1144  2021-12-01  13:54:55.338232          93  56      68.0         31.3\n",
       "1145  2021-12-01  13:54:57.352952          93  54      68.0         31.3\n",
       "\n",
       "[1146 rows x 6 columns]"
      ]
     },
     "execution_count": 5,
     "metadata": {},
     "output_type": "execute_result"
    }
   ],
   "source": [
    "data"
   ]
  },
  {
   "cell_type": "code",
   "execution_count": 6,
   "id": "d364b6ec",
   "metadata": {},
   "outputs": [
    {
     "data": {
      "text/plain": [
       "(1146, 6)"
      ]
     },
     "execution_count": 6,
     "metadata": {},
     "output_type": "execute_result"
    }
   ],
   "source": [
    "data.shape"
   ]
  },
  {
   "cell_type": "code",
   "execution_count": 7,
   "id": "b6d3f5d2",
   "metadata": {},
   "outputs": [
    {
     "data": {
      "text/plain": [
       "Date            object\n",
       "Time            object\n",
       "AirQuality       int64\n",
       "CO               int64\n",
       "Humidity       float64\n",
       "Temperature    float64\n",
       "dtype: object"
      ]
     },
     "execution_count": 7,
     "metadata": {},
     "output_type": "execute_result"
    }
   ],
   "source": [
    "data.dtypes"
   ]
  },
  {
   "cell_type": "code",
   "execution_count": 9,
   "id": "19d8bd17",
   "metadata": {},
   "outputs": [
    {
     "data": {
      "text/plain": [
       "Index(['Date', 'Time', 'AirQuality', 'CO', 'Humidity', 'Temperature'], dtype='object')"
      ]
     },
     "execution_count": 9,
     "metadata": {},
     "output_type": "execute_result"
    }
   ],
   "source": [
    "data.columns"
   ]
  },
  {
   "cell_type": "code",
   "execution_count": 10,
   "id": "44544eaa",
   "metadata": {},
   "outputs": [
    {
     "data": {
      "text/plain": [
       "Date           0\n",
       "Time           0\n",
       "AirQuality     0\n",
       "CO             0\n",
       "Humidity       0\n",
       "Temperature    0\n",
       "dtype: int64"
      ]
     },
     "execution_count": 10,
     "metadata": {},
     "output_type": "execute_result"
    }
   ],
   "source": [
    "data.isnull().sum()"
   ]
  },
  {
   "cell_type": "code",
   "execution_count": 11,
   "id": "62e1c37b",
   "metadata": {},
   "outputs": [
    {
     "data": {
      "text/plain": [
       "<bound method DataFrame.info of             Date             Time  AirQuality  CO  Humidity  Temperature\n",
       "0     2021-12-01  13:07:40.612026          86  47      61.0         30.8\n",
       "1     2021-12-01  13:07:40.628009          85  46      61.0         30.8\n",
       "2     2021-12-01  13:07:42.083012          82  51      61.0         30.8\n",
       "3     2021-12-01  13:07:43.601984          85  50      61.0         30.8\n",
       "4     2021-12-01  13:07:45.105018          81  50      61.0         30.8\n",
       "...          ...              ...         ...  ..       ...          ...\n",
       "1141  2021-12-01  13:54:49.246432          93  55      67.0         31.3\n",
       "1142  2021-12-01  13:54:51.277008          90  52      67.0         31.3\n",
       "1143  2021-12-01  13:54:53.307616          93  56      67.0         31.3\n",
       "1144  2021-12-01  13:54:55.338232          93  56      68.0         31.3\n",
       "1145  2021-12-01  13:54:57.352952          93  54      68.0         31.3\n",
       "\n",
       "[1146 rows x 6 columns]>"
      ]
     },
     "execution_count": 11,
     "metadata": {},
     "output_type": "execute_result"
    }
   ],
   "source": [
    "data.info"
   ]
  },
  {
   "cell_type": "code",
   "execution_count": 13,
   "id": "e2f8e6fa",
   "metadata": {},
   "outputs": [
    {
     "data": {
      "text/plain": [
       "Index(['AirQuality', 'CO', 'Humidity', 'Temperature'], dtype='object')"
      ]
     },
     "execution_count": 13,
     "metadata": {},
     "output_type": "execute_result"
    }
   ],
   "source": [
    "newdata=data.drop(['Date','Time'],axis=1)\n",
    "newdata.columns"
   ]
  },
  {
   "cell_type": "code",
   "execution_count": 14,
   "id": "26a581ef",
   "metadata": {},
   "outputs": [
    {
     "data": {
      "text/plain": [
       "AirQuality     0\n",
       "CO             0\n",
       "Humidity       0\n",
       "Temperature    0\n",
       "dtype: int64"
      ]
     },
     "execution_count": 14,
     "metadata": {},
     "output_type": "execute_result"
    }
   ],
   "source": [
    "newdata.isnull().sum()"
   ]
  },
  {
   "cell_type": "code",
   "execution_count": 15,
   "id": "9d54afce",
   "metadata": {},
   "outputs": [
    {
     "name": "stdout",
     "output_type": "stream",
     "text": [
      "<class 'pandas.core.frame.DataFrame'>\n",
      "RangeIndex: 1146 entries, 0 to 1145\n",
      "Data columns (total 4 columns):\n",
      " #   Column       Non-Null Count  Dtype  \n",
      "---  ------       --------------  -----  \n",
      " 0   AirQuality   1146 non-null   int64  \n",
      " 1   CO           1146 non-null   int64  \n",
      " 2   Humidity     1146 non-null   float64\n",
      " 3   Temperature  1146 non-null   float64\n",
      "dtypes: float64(2), int64(2)\n",
      "memory usage: 35.9 KB\n"
     ]
    }
   ],
   "source": [
    "newdata.info()"
   ]
  },
  {
   "cell_type": "code",
   "execution_count": 16,
   "id": "bb5e9c71",
   "metadata": {},
   "outputs": [
    {
     "data": {
      "text/html": [
       "<div>\n",
       "<style scoped>\n",
       "    .dataframe tbody tr th:only-of-type {\n",
       "        vertical-align: middle;\n",
       "    }\n",
       "\n",
       "    .dataframe tbody tr th {\n",
       "        vertical-align: top;\n",
       "    }\n",
       "\n",
       "    .dataframe thead th {\n",
       "        text-align: right;\n",
       "    }\n",
       "</style>\n",
       "<table border=\"1\" class=\"dataframe\">\n",
       "  <thead>\n",
       "    <tr style=\"text-align: right;\">\n",
       "      <th></th>\n",
       "      <th>AirQuality</th>\n",
       "      <th>CO</th>\n",
       "      <th>Humidity</th>\n",
       "      <th>Temperature</th>\n",
       "    </tr>\n",
       "  </thead>\n",
       "  <tbody>\n",
       "    <tr>\n",
       "      <th>0</th>\n",
       "      <td>86</td>\n",
       "      <td>47</td>\n",
       "      <td>61</td>\n",
       "      <td>30</td>\n",
       "    </tr>\n",
       "    <tr>\n",
       "      <th>1</th>\n",
       "      <td>85</td>\n",
       "      <td>46</td>\n",
       "      <td>61</td>\n",
       "      <td>30</td>\n",
       "    </tr>\n",
       "    <tr>\n",
       "      <th>2</th>\n",
       "      <td>82</td>\n",
       "      <td>51</td>\n",
       "      <td>61</td>\n",
       "      <td>30</td>\n",
       "    </tr>\n",
       "    <tr>\n",
       "      <th>3</th>\n",
       "      <td>85</td>\n",
       "      <td>50</td>\n",
       "      <td>61</td>\n",
       "      <td>30</td>\n",
       "    </tr>\n",
       "    <tr>\n",
       "      <th>4</th>\n",
       "      <td>81</td>\n",
       "      <td>50</td>\n",
       "      <td>61</td>\n",
       "      <td>30</td>\n",
       "    </tr>\n",
       "  </tbody>\n",
       "</table>\n",
       "</div>"
      ],
      "text/plain": [
       "   AirQuality  CO  Humidity  Temperature\n",
       "0          86  47        61           30\n",
       "1          85  46        61           30\n",
       "2          82  51        61           30\n",
       "3          85  50        61           30\n",
       "4          81  50        61           30"
      ]
     },
     "execution_count": 16,
     "metadata": {},
     "output_type": "execute_result"
    }
   ],
   "source": [
    "prepareddata=newdata.astype(int)\n",
    "prepareddata.head()"
   ]
  },
  {
   "cell_type": "code",
   "execution_count": 17,
   "id": "cc126ef1",
   "metadata": {},
   "outputs": [
    {
     "data": {
      "text/html": [
       "<div>\n",
       "<style scoped>\n",
       "    .dataframe tbody tr th:only-of-type {\n",
       "        vertical-align: middle;\n",
       "    }\n",
       "\n",
       "    .dataframe tbody tr th {\n",
       "        vertical-align: top;\n",
       "    }\n",
       "\n",
       "    .dataframe thead th {\n",
       "        text-align: right;\n",
       "    }\n",
       "</style>\n",
       "<table border=\"1\" class=\"dataframe\">\n",
       "  <thead>\n",
       "    <tr style=\"text-align: right;\">\n",
       "      <th></th>\n",
       "      <th>AirQuality</th>\n",
       "      <th>CO</th>\n",
       "      <th>Humidity</th>\n",
       "      <th>Temperature</th>\n",
       "    </tr>\n",
       "  </thead>\n",
       "  <tbody>\n",
       "    <tr>\n",
       "      <th>1141</th>\n",
       "      <td>93</td>\n",
       "      <td>55</td>\n",
       "      <td>67</td>\n",
       "      <td>31</td>\n",
       "    </tr>\n",
       "    <tr>\n",
       "      <th>1142</th>\n",
       "      <td>90</td>\n",
       "      <td>52</td>\n",
       "      <td>67</td>\n",
       "      <td>31</td>\n",
       "    </tr>\n",
       "    <tr>\n",
       "      <th>1143</th>\n",
       "      <td>93</td>\n",
       "      <td>56</td>\n",
       "      <td>67</td>\n",
       "      <td>31</td>\n",
       "    </tr>\n",
       "    <tr>\n",
       "      <th>1144</th>\n",
       "      <td>93</td>\n",
       "      <td>56</td>\n",
       "      <td>68</td>\n",
       "      <td>31</td>\n",
       "    </tr>\n",
       "    <tr>\n",
       "      <th>1145</th>\n",
       "      <td>93</td>\n",
       "      <td>54</td>\n",
       "      <td>68</td>\n",
       "      <td>31</td>\n",
       "    </tr>\n",
       "  </tbody>\n",
       "</table>\n",
       "</div>"
      ],
      "text/plain": [
       "      AirQuality  CO  Humidity  Temperature\n",
       "1141          93  55        67           31\n",
       "1142          90  52        67           31\n",
       "1143          93  56        67           31\n",
       "1144          93  56        68           31\n",
       "1145          93  54        68           31"
      ]
     },
     "execution_count": 17,
     "metadata": {},
     "output_type": "execute_result"
    }
   ],
   "source": [
    "prepareddata.tail()"
   ]
  },
  {
   "cell_type": "code",
   "execution_count": 18,
   "id": "1d6718be",
   "metadata": {},
   "outputs": [
    {
     "name": "stdout",
     "output_type": "stream",
     "text": [
      "<class 'pandas.core.frame.DataFrame'>\n",
      "RangeIndex: 1146 entries, 0 to 1145\n",
      "Data columns (total 4 columns):\n",
      " #   Column       Non-Null Count  Dtype\n",
      "---  ------       --------------  -----\n",
      " 0   AirQuality   1146 non-null   int32\n",
      " 1   CO           1146 non-null   int32\n",
      " 2   Humidity     1146 non-null   int32\n",
      " 3   Temperature  1146 non-null   int32\n",
      "dtypes: int32(4)\n",
      "memory usage: 18.0 KB\n"
     ]
    }
   ],
   "source": [
    "prepareddata.info()"
   ]
  },
  {
   "cell_type": "code",
   "execution_count": 19,
   "id": "be93b210",
   "metadata": {},
   "outputs": [
    {
     "data": {
      "text/html": [
       "<div>\n",
       "<style scoped>\n",
       "    .dataframe tbody tr th:only-of-type {\n",
       "        vertical-align: middle;\n",
       "    }\n",
       "\n",
       "    .dataframe tbody tr th {\n",
       "        vertical-align: top;\n",
       "    }\n",
       "\n",
       "    .dataframe thead th {\n",
       "        text-align: right;\n",
       "    }\n",
       "</style>\n",
       "<table border=\"1\" class=\"dataframe\">\n",
       "  <thead>\n",
       "    <tr style=\"text-align: right;\">\n",
       "      <th></th>\n",
       "      <th>AirQuality</th>\n",
       "      <th>CO</th>\n",
       "      <th>Humidity</th>\n",
       "      <th>Temperature</th>\n",
       "    </tr>\n",
       "  </thead>\n",
       "  <tbody>\n",
       "    <tr>\n",
       "      <th>count</th>\n",
       "      <td>1146.000000</td>\n",
       "      <td>1146.000000</td>\n",
       "      <td>1146.000000</td>\n",
       "      <td>1146.000000</td>\n",
       "    </tr>\n",
       "    <tr>\n",
       "      <th>mean</th>\n",
       "      <td>86.812391</td>\n",
       "      <td>51.229494</td>\n",
       "      <td>62.930192</td>\n",
       "      <td>30.369983</td>\n",
       "    </tr>\n",
       "    <tr>\n",
       "      <th>std</th>\n",
       "      <td>2.768927</td>\n",
       "      <td>2.546449</td>\n",
       "      <td>2.353185</td>\n",
       "      <td>0.483010</td>\n",
       "    </tr>\n",
       "    <tr>\n",
       "      <th>min</th>\n",
       "      <td>80.000000</td>\n",
       "      <td>45.000000</td>\n",
       "      <td>59.000000</td>\n",
       "      <td>30.000000</td>\n",
       "    </tr>\n",
       "    <tr>\n",
       "      <th>25%</th>\n",
       "      <td>85.000000</td>\n",
       "      <td>49.000000</td>\n",
       "      <td>61.000000</td>\n",
       "      <td>30.000000</td>\n",
       "    </tr>\n",
       "    <tr>\n",
       "      <th>50%</th>\n",
       "      <td>87.000000</td>\n",
       "      <td>51.000000</td>\n",
       "      <td>63.000000</td>\n",
       "      <td>30.000000</td>\n",
       "    </tr>\n",
       "    <tr>\n",
       "      <th>75%</th>\n",
       "      <td>89.000000</td>\n",
       "      <td>53.000000</td>\n",
       "      <td>65.000000</td>\n",
       "      <td>31.000000</td>\n",
       "    </tr>\n",
       "    <tr>\n",
       "      <th>max</th>\n",
       "      <td>93.000000</td>\n",
       "      <td>57.000000</td>\n",
       "      <td>68.000000</td>\n",
       "      <td>31.000000</td>\n",
       "    </tr>\n",
       "  </tbody>\n",
       "</table>\n",
       "</div>"
      ],
      "text/plain": [
       "        AirQuality           CO     Humidity  Temperature\n",
       "count  1146.000000  1146.000000  1146.000000  1146.000000\n",
       "mean     86.812391    51.229494    62.930192    30.369983\n",
       "std       2.768927     2.546449     2.353185     0.483010\n",
       "min      80.000000    45.000000    59.000000    30.000000\n",
       "25%      85.000000    49.000000    61.000000    30.000000\n",
       "50%      87.000000    51.000000    63.000000    30.000000\n",
       "75%      89.000000    53.000000    65.000000    31.000000\n",
       "max      93.000000    57.000000    68.000000    31.000000"
      ]
     },
     "execution_count": 19,
     "metadata": {},
     "output_type": "execute_result"
    }
   ],
   "source": [
    "prepareddata.describe()"
   ]
  },
  {
   "cell_type": "code",
   "execution_count": 20,
   "id": "2c8e94db",
   "metadata": {},
   "outputs": [],
   "source": [
    "import matplotlib.pyplot as plt\n",
    "%matplotlib inline\n",
    "import seaborn as sns"
   ]
  },
  {
   "cell_type": "code",
   "execution_count": 24,
   "id": "39061da8",
   "metadata": {},
   "outputs": [
    {
     "data": {
      "image/png": "[encoded data removed]",
      "text/plain": [
       "<Figure size 1080x576 with 1 Axes>"
      ]
     },
     "metadata": {
      "needs_background": "light"
     },
     "output_type": "display_data"
    }
   ],
   "source": [
    "x=prepareddata['AirQuality']\n",
    "y1=prepareddata['CO']\n",
    "y2=prepareddata['Humidity']\n",
    "y3=prepareddata['Temperature']\n",
    "plt.figure(figsize=(15,8))\n",
    "plt.scatter(x,y1,label='CO',color='salmon')\n",
    "plt.scatter(x,y2,label='Humidity',color='palegreen')\n",
    "plt.scatter(x,y3,label='Temperature',color='yellow')\n",
    "plt.title('AirQualityIndex and its Pollutents',fontsize=18)\n",
    "plt.xlabel('AirQualityIndex',fontsize=14)\n",
    "plt.ylabel('Value',fontsize=14)\n",
    "plt.legend()\n",
    "plt.show()"
   ]
  },
  {
   "cell_type": "code",
   "execution_count": 25,
   "id": "4b74f097",
   "metadata": {},
   "outputs": [
    {
     "data": {
      "text/plain": [
       "<AxesSubplot:>"
      ]
     },
     "execution_count": 25,
     "metadata": {},
     "output_type": "execute_result"
    },
    {
     "data": {
      "image/png": "[encoded data removed]",
      "text/plain": [
       "<Figure size 432x288 with 2 Axes>"
      ]
     },
     "metadata": {
      "needs_background": "light"
     },
     "output_type": "display_data"
    }
   ],
   "source": [
    "corr = prepareddata.corr() \n",
    "sns.heatmap(corr, annot=True)"
   ]
  },
  {
   "cell_type": "code",
   "execution_count": 26,
   "id": "ee27d4ad",
   "metadata": {},
   "outputs": [],
   "source": [
    "from sklearn.model_selection import train_test_split"
   ]
  },
  {
   "cell_type": "code",
   "execution_count": 27,
   "id": "451ab4df",
   "metadata": {},
   "outputs": [],
   "source": [
    "x=prepareddata[['CO', 'Humidity','Temperature']]  \n",
    "y=prepareddata['AirQuality']pd."
   ]
  },
  {
   "cell_type": "code",
   "execution_count": 28,
   "id": "70d366f9",
   "metadata": {},
   "outputs": [
    {
     "data": {
      "text/plain": [
       "(1146, 3)"
      ]
     },
     "execution_count": 28,
     "metadata": {},
     "output_type": "execute_result"
    }
   ],
   "source": [
    "x.shape"
   ]
  },
  {
   "cell_type": "code",
   "execution_count": 29,
   "id": "d51f1509",
   "metadata": {},
   "outputs": [
    {
     "data": {
      "text/plain": [
       "(1146,)"
      ]
     },
     "execution_count": 29,
     "metadata": {},
     "output_type": "execute_result"
    }
   ],
   "source": [
    "y.shape"
   ]
  },
  {
   "cell_type": "code",
   "execution_count": 30,
   "id": "f75160ab",
   "metadata": {},
   "outputs": [],
   "source": [
    "x_train, x_test, y_train, y_test = train_test_split(x, y, test_size=0.2)"
   ]
  },
  {
   "cell_type": "code",
   "execution_count": 31,
   "id": "e9cac530",
   "metadata": {},
   "outputs": [],
   "source": [
    "#Linear Regression\n",
    "\n",
    "from sklearn.linear_model import LinearRegression \n",
    "reg1 = LinearRegression()"
   ]
  },
  {
   "cell_type": "code",
   "execution_count": 32,
   "id": "b683b092",
   "metadata": {},
   "outputs": [
    {
     "data": {
      "text/plain": [
       "LinearRegression()"
      ]
     },
     "execution_count": 32,
     "metadata": {},
     "output_type": "execute_result"
    }
   ],
   "source": [
    "reg1.fit(x_train, y_train)"
   ]
  },
  {
   "cell_type": "code",
   "execution_count": 33,
   "id": "cacf66b5",
   "metadata": {},
   "outputs": [],
   "source": [
    "pred1 = reg1.predict(x_test)"
   ]
  },
  {
   "cell_type": "code",
   "execution_count": 34,
   "id": "2531c491",
   "metadata": {},
   "outputs": [
    {
     "data": {
      "text/plain": [
       "array([84.23174811, 89.69670675, 86.13667066, 86.03153004, 85.28935001,\n",
       "       87.83131197, 84.38945905, 88.05463576, 86.72113976, 85.2367797 ,\n",
       "       83.71289188, 89.74927706, 83.50261063, 87.72617134, 88.90195641,\n",
       "       90.43888678, 89.53899581, 90.43888678, 83.55518094, 88.69167516,\n",
       "       88.74424547, 85.02649845, 88.8493861 , 87.88388228, 87.67360103,\n",
       "       87.62103072, 90.59659771, 86.77371007, 83.45004032, 89.59156613,\n",
       "       86.931421  , 84.23174811, 86.13667066, 87.03656163, 84.23174811,\n",
       "       89.59156613, 84.33688874, 84.23174811, 90.49145709, 88.69167516,\n",
       "       85.87381911, 85.87381911, 86.77371007, 84.12660749, 89.64413644,\n",
       "       84.23174811, 84.40250159, 89.74927706, 85.87381911, 84.23174811,\n",
       "       86.98399131, 86.87885069, 89.74927706, 85.2367797 , 87.72617134,\n",
       "       86.03153004, 86.87885069, 87.67360103, 86.931421  , 89.64413644,\n",
       "       83.71289188, 87.67360103, 84.23174811, 86.77371007, 86.82628038,\n",
       "       86.08410035, 89.80184737, 86.82628038, 85.18420939, 84.38945905,\n",
       "       84.23174811, 86.931421  , 85.28935001, 89.59156613, 83.45004032,\n",
       "       87.62103072, 83.60775125, 89.64413644, 86.77371007, 86.72113976,\n",
       "       83.50261063, 88.69167516, 89.74927706, 83.60775125, 85.92638942,\n",
       "       86.98399131, 85.87381911, 86.77371007, 89.53899581, 85.87381911,\n",
       "       90.5440274 , 85.18420939, 84.33688874, 88.63910485, 89.69670675,\n",
       "       88.79681579, 86.87885069, 90.38631647, 84.23174811, 88.74424547,\n",
       "       86.03153004, 87.67360103, 87.67360103, 88.05463576, 86.82628038,\n",
       "       88.00206545, 84.12660749, 88.69167516, 87.88388228, 86.931421  ,\n",
       "       85.87381911, 84.23174811, 85.87381911, 88.74424547, 85.13163908,\n",
       "       87.72617134, 83.50261063, 90.5440274 , 84.23174811, 90.49145709,\n",
       "       85.97895973, 87.83131197, 85.92638942, 85.92638942, 85.92638942,\n",
       "       85.87381911, 85.87381911, 87.62103072, 85.28935001, 86.13667066,\n",
       "       83.50261063, 85.87381911, 84.12660749, 85.87381911, 90.38631647,\n",
       "       90.43888678, 86.82628038, 85.13163908, 86.13667066, 85.92638942,\n",
       "       85.34192032, 90.33374615, 84.23174811, 89.4864255 , 83.60775125,\n",
       "       84.33688874, 86.08410035, 86.03153004, 88.74424547, 83.66032157,\n",
       "       88.69167516, 84.38945905, 88.69167516, 88.69167516, 86.72113976,\n",
       "       88.8493861 , 84.33688874, 85.07906877, 88.95452672, 84.23174811,\n",
       "       85.87381911, 85.13163908, 90.59659771, 85.97895973, 84.23174811,\n",
       "       84.23174811, 86.08410035, 85.2367797 , 86.98399131, 86.77371007,\n",
       "       90.59659771, 84.23174811, 86.77371007, 86.77371007, 87.83131197,\n",
       "       85.87381911, 85.18420939, 84.33688874, 85.2367797 , 87.62103072,\n",
       "       84.1791778 , 90.5440274 , 86.13667066, 90.43888678, 86.72113976,\n",
       "       84.38945905, 85.13163908, 86.82628038, 87.03656163, 86.03153004,\n",
       "       85.13163908, 87.72617134, 88.69167516, 83.55518094, 84.28431843,\n",
       "       86.72113976, 90.38631647, 86.931421  , 90.33374615, 84.1791778 ,\n",
       "       88.69167516, 90.59659771, 87.93645259, 86.03153004, 85.87381911,\n",
       "       86.98399131, 85.92638942, 90.38631647, 85.07906877, 84.50764222,\n",
       "       85.87381911, 85.87381911, 88.90195641, 88.05463576, 87.72617134,\n",
       "       86.72113976, 87.77874165, 89.4864255 , 87.72617134, 86.98399131,\n",
       "       86.98399131, 86.03153004, 84.33688874, 89.74927706, 89.64413644,\n",
       "       85.87381911, 88.00206545, 90.38631647, 86.77371007, 87.67360103])"
      ]
     },
     "execution_count": 34,
     "metadata": {},
     "output_type": "execute_result"
    }
   ],
   "source": [
    "pred1"
   ]
  },
  {
   "cell_type": "code",
   "execution_count": 35,
   "id": "7fb2735c",
   "metadata": {},
   "outputs": [
    {
     "name": "stdout",
     "output_type": "stream",
     "text": [
      "Accuracy of the LinearRegression model comes to be: \n",
      " \n",
      "0.5831127204741199\n"
     ]
    }
   ],
   "source": [
    "print(\"Accuracy of the LinearRegression model comes to be: \\n \") \n",
    "print(reg1.score(x_train,y_train))"
   ]
  },
  {
   "cell_type": "code",
   "execution_count": 36,
   "id": "bf914f2f",
   "metadata": {},
   "outputs": [],
   "source": [
    "#LassoRegression\n",
    "\n",
    "from sklearn.linear_model import Lasso\n",
    "reg2 = Lasso()"
   ]
  },
  {
   "cell_type": "code",
   "execution_count": 37,
   "id": "ad9ee447",
   "metadata": {},
   "outputs": [
    {
     "data": {
      "text/plain": [
       "Lasso()"
      ]
     },
     "execution_count": 37,
     "metadata": {},
     "output_type": "execute_result"
    }
   ],
   "source": [
    "reg2.fit(x_train, y_train)"
   ]
  },
  {
   "cell_type": "code",
   "execution_count": 38,
   "id": "aa2662e6",
   "metadata": {},
   "outputs": [],
   "source": [
    "pred2 = reg2.predict(x_test)"
   ]
  },
  {
   "cell_type": "code",
   "execution_count": 39,
   "id": "e42b4e61",
   "metadata": {},
   "outputs": [
    {
     "data": {
      "text/plain": [
       "array([84.82328529, 89.01788478, 86.22148512, 86.22148512, 85.52238521,\n",
       "       87.61968495, 84.82328529, 87.61968495, 86.92058504, 85.52238521,\n",
       "       84.12418538, 89.01788478, 84.12418538, 87.61968495, 88.31878487,\n",
       "       89.7169847 , 89.01788478, 89.7169847 , 84.12418538, 88.31878487,\n",
       "       88.31878487, 85.52238521, 88.31878487, 87.61968495, 87.61968495,\n",
       "       87.61968495, 89.7169847 , 86.92058504, 84.12418538, 89.01788478,\n",
       "       86.92058504, 84.82328529, 86.22148512, 86.92058504, 84.82328529,\n",
       "       89.01788478, 84.82328529, 84.82328529, 89.7169847 , 88.31878487,\n",
       "       86.22148512, 86.22148512, 86.92058504, 84.82328529, 89.01788478,\n",
       "       84.82328529, 84.82328529, 89.01788478, 86.22148512, 84.82328529,\n",
       "       86.92058504, 86.92058504, 89.01788478, 85.52238521, 87.61968495,\n",
       "       86.22148512, 86.92058504, 87.61968495, 86.92058504, 89.01788478,\n",
       "       84.12418538, 87.61968495, 84.82328529, 86.92058504, 86.92058504,\n",
       "       86.22148512, 89.01788478, 86.92058504, 85.52238521, 84.82328529,\n",
       "       84.82328529, 86.92058504, 85.52238521, 89.01788478, 84.12418538,\n",
       "       87.61968495, 84.12418538, 89.01788478, 86.92058504, 86.92058504,\n",
       "       84.12418538, 88.31878487, 89.01788478, 84.12418538, 86.22148512,\n",
       "       86.92058504, 86.22148512, 86.92058504, 89.01788478, 86.22148512,\n",
       "       89.7169847 , 85.52238521, 84.82328529, 88.31878487, 89.01788478,\n",
       "       88.31878487, 86.92058504, 89.7169847 , 84.82328529, 88.31878487,\n",
       "       86.22148512, 87.61968495, 87.61968495, 87.61968495, 86.92058504,\n",
       "       87.61968495, 84.82328529, 88.31878487, 87.61968495, 86.92058504,\n",
       "       86.22148512, 84.82328529, 86.22148512, 88.31878487, 85.52238521,\n",
       "       87.61968495, 84.12418538, 89.7169847 , 84.82328529, 89.7169847 ,\n",
       "       86.22148512, 87.61968495, 86.22148512, 86.22148512, 86.22148512,\n",
       "       86.22148512, 86.22148512, 87.61968495, 85.52238521, 86.22148512,\n",
       "       84.12418538, 86.22148512, 84.82328529, 86.22148512, 89.7169847 ,\n",
       "       89.7169847 , 86.92058504, 85.52238521, 86.22148512, 86.22148512,\n",
       "       85.52238521, 89.7169847 , 84.82328529, 89.01788478, 84.12418538,\n",
       "       84.82328529, 86.22148512, 86.22148512, 88.31878487, 84.12418538,\n",
       "       88.31878487, 84.82328529, 88.31878487, 88.31878487, 86.92058504,\n",
       "       88.31878487, 84.82328529, 85.52238521, 88.31878487, 84.82328529,\n",
       "       86.22148512, 85.52238521, 89.7169847 , 86.22148512, 84.82328529,\n",
       "       84.82328529, 86.22148512, 85.52238521, 86.92058504, 86.92058504,\n",
       "       89.7169847 , 84.82328529, 86.92058504, 86.92058504, 87.61968495,\n",
       "       86.22148512, 85.52238521, 84.82328529, 85.52238521, 87.61968495,\n",
       "       84.82328529, 89.7169847 , 86.22148512, 89.7169847 , 86.92058504,\n",
       "       84.82328529, 85.52238521, 86.92058504, 86.92058504, 86.22148512,\n",
       "       85.52238521, 87.61968495, 88.31878487, 84.12418538, 84.82328529,\n",
       "       86.92058504, 89.7169847 , 86.92058504, 89.7169847 , 84.82328529,\n",
       "       88.31878487, 89.7169847 , 87.61968495, 86.22148512, 86.22148512,\n",
       "       86.92058504, 86.22148512, 89.7169847 , 85.52238521, 84.82328529,\n",
       "       86.22148512, 86.22148512, 88.31878487, 87.61968495, 87.61968495,\n",
       "       86.92058504, 87.61968495, 89.01788478, 87.61968495, 86.92058504,\n",
       "       86.92058504, 86.22148512, 84.82328529, 89.01788478, 89.01788478,\n",
       "       86.22148512, 87.61968495, 89.7169847 , 86.92058504, 87.61968495])"
      ]
     },
     "execution_count": 39,
     "metadata": {},
     "output_type": "execute_result"
    }
   ],
   "source": [
    "pred2"
   ]
  },
  {
   "cell_type": "code",
   "execution_count": 40,
   "id": "d4ab6e44",
   "metadata": {},
   "outputs": [
    {
     "name": "stdout",
     "output_type": "stream",
     "text": [
      "Accuracy of the LassoRegression model comes to be: \n",
      " \n",
      "0.556872924339579\n"
     ]
    }
   ],
   "source": [
    "print(\"Accuracy of the LassoRegression model comes to be: \\n \") \n",
    "print(reg2.score(x_train,y_train))"
   ]
  },
  {
   "cell_type": "code",
   "execution_count": 41,
   "id": "e9dd094e",
   "metadata": {},
   "outputs": [],
   "source": [
    "#RidgeRegression\n",
    "\n",
    "from sklearn.linear_model import Ridge\n",
    "reg3 = Ridge()"
   ]
  },
  {
   "cell_type": "code",
   "execution_count": 42,
   "id": "bf965a55",
   "metadata": {},
   "outputs": [
    {
     "data": {
      "text/plain": [
       "Ridge()"
      ]
     },
     "execution_count": 42,
     "metadata": {},
     "output_type": "execute_result"
    }
   ],
   "source": [
    "reg3.fit(x_train, y_train)"
   ]
  },
  {
   "cell_type": "code",
   "execution_count": 43,
   "id": "6d44736d",
   "metadata": {},
   "outputs": [],
   "source": [
    "pred3= reg3.predict(x_test)"
   ]
  },
  {
   "cell_type": "code",
   "execution_count": 44,
   "id": "6354f195",
   "metadata": {},
   "outputs": [
    {
     "data": {
      "text/plain": [
       "array([84.23252322, 89.69567619, 86.13640163, 86.03171629, 85.28914776,\n",
       "       87.83090936, 84.38955123, 88.05351113, 86.72194215, 85.23680509,\n",
       "       83.71255647, 89.74801886, 83.50318579, 87.72622402, 88.90076499,\n",
       "       90.43824472, 89.53864818, 90.43824472, 83.55552846, 88.69139432,\n",
       "       88.74373699, 85.02743442, 88.84842232, 87.88325202, 87.67388135,\n",
       "       87.62153868, 90.59527272, 86.77428482, 83.45084312, 89.59099085,\n",
       "       86.93131282, 84.23252322, 86.13640163, 87.03599816, 84.23252322,\n",
       "       89.59099085, 84.33720856, 84.23252322, 90.49058738, 88.69139432,\n",
       "       85.87468828, 85.87468828, 86.77428482, 84.12783788, 89.64333352,\n",
       "       84.23252322, 84.40278232, 89.74801886, 85.87468828, 84.23252322,\n",
       "       86.98365549, 86.87897015, 89.74801886, 85.23680509, 87.72622402,\n",
       "       86.03171629, 86.87897015, 87.67388135, 86.93131282, 89.64333352,\n",
       "       83.71255647, 87.67388135, 84.23252322, 86.77428482, 86.82662748,\n",
       "       86.08405896, 89.80036153, 86.82662748, 85.18446242, 84.38955123,\n",
       "       84.23252322, 86.93131282, 85.28914776, 89.59099085, 83.45084312,\n",
       "       87.62153868, 83.60787113, 89.64333352, 86.77428482, 86.72194215,\n",
       "       83.50318579, 88.69139432, 89.74801886, 83.60787113, 85.92703095,\n",
       "       86.98365549, 85.87468828, 86.77428482, 89.53864818, 85.87468828,\n",
       "       90.54293005, 85.18446242, 84.33720856, 88.63905165, 89.69567619,\n",
       "       88.79607965, 86.87897015, 90.38590205, 84.23252322, 88.74373699,\n",
       "       86.03171629, 87.67388135, 87.67388135, 88.05351113, 86.82662748,\n",
       "       88.00116846, 84.12783788, 88.69139432, 87.88325202, 86.93131282,\n",
       "       85.87468828, 84.23252322, 85.87468828, 88.74373699, 85.13211975,\n",
       "       87.72622402, 83.50318579, 90.54293005, 84.23252322, 90.49058738,\n",
       "       85.97937362, 87.83090936, 85.92703095, 85.92703095, 85.92703095,\n",
       "       85.87468828, 85.87468828, 87.62153868, 85.28914776, 86.13640163,\n",
       "       83.50318579, 85.87468828, 84.12783788, 85.87468828, 90.38590205,\n",
       "       90.43824472, 86.82662748, 85.13211975, 86.13640163, 85.92703095,\n",
       "       85.34149043, 90.33355938, 84.23252322, 89.48630551, 83.60787113,\n",
       "       84.33720856, 86.08405896, 86.03171629, 88.74373699, 83.6602138 ,\n",
       "       88.69139432, 84.38955123, 88.69139432, 88.69139432, 86.72194215,\n",
       "       88.84842232, 84.33720856, 85.07977709, 88.95310766, 84.23252322,\n",
       "       85.87468828, 85.13211975, 90.59527272, 85.97937362, 84.23252322,\n",
       "       84.23252322, 86.08405896, 85.23680509, 86.98365549, 86.77428482,\n",
       "       90.59527272, 84.23252322, 86.77428482, 86.77428482, 87.83090936,\n",
       "       85.87468828, 85.18446242, 84.33720856, 85.23680509, 87.62153868,\n",
       "       84.18018055, 90.54293005, 86.13640163, 90.43824472, 86.72194215,\n",
       "       84.38955123, 85.13211975, 86.82662748, 87.03599816, 86.03171629,\n",
       "       85.13211975, 87.72622402, 88.69139432, 83.55552846, 84.28486589,\n",
       "       86.72194215, 90.38590205, 86.93131282, 90.33355938, 84.18018055,\n",
       "       88.69139432, 90.59527272, 87.93559469, 86.03171629, 85.87468828,\n",
       "       86.98365549, 85.92703095, 90.38590205, 85.07977709, 84.50746766,\n",
       "       85.87468828, 85.87468828, 88.90076499, 88.05351113, 87.72622402,\n",
       "       86.72194215, 87.77856669, 89.48630551, 87.72622402, 86.98365549,\n",
       "       86.98365549, 86.03171629, 84.33720856, 89.74801886, 89.64333352,\n",
       "       85.87468828, 88.00116846, 90.38590205, 86.77428482, 87.67388135])"
      ]
     },
     "execution_count": 44,
     "metadata": {},
     "output_type": "execute_result"
    }
   ],
   "source": [
    "pred3"
   ]
  },
  {
   "cell_type": "code",
   "execution_count": 45,
   "id": "59d9a043",
   "metadata": {},
   "outputs": [
    {
     "name": "stdout",
     "output_type": "stream",
     "text": [
      "Accuracy of the RidgeRegression model comes to be: \n",
      " \n",
      "0.5831126671926451\n"
     ]
    }
   ],
   "source": [
    "print(\"Accuracy of the RidgeRegression model comes to be: \\n \") \n",
    "print(reg3.score(x_train,y_train))"
   ]
  },
  {
   "cell_type": "code",
   "execution_count": 46,
   "id": "3ed250ae",
   "metadata": {},
   "outputs": [],
   "source": [
    "#DecisionTreeRegression\n",
    "\n",
    "from sklearn.tree import DecisionTreeRegressor \n",
    "reg4 = DecisionTreeRegressor()"
   ]
  },
  {
   "cell_type": "code",
   "execution_count": 47,
   "id": "a4ab364b",
   "metadata": {},
   "outputs": [
    {
     "data": {
      "text/plain": [
       "DecisionTreeRegressor()"
      ]
     },
     "execution_count": 47,
     "metadata": {},
     "output_type": "execute_result"
    }
   ],
   "source": [
    "reg4.fit(x_train, y_train)"
   ]
  },
  {
   "cell_type": "code",
   "execution_count": 49,
   "id": "8a033c34",
   "metadata": {},
   "outputs": [],
   "source": [
    "pred4 = reg4.predict(x_test)"
   ]
  },
  {
   "cell_type": "code",
   "execution_count": 50,
   "id": "16879860",
   "metadata": {},
   "outputs": [
    {
     "data": {
      "text/plain": [
       "array([82.16666667, 89.44444444, 88.5483871 , 87.41176471, 86.71428571,\n",
       "       86.16666667, 84.2       , 85.5       , 85.64705882, 86.69230769,\n",
       "       83.72727273, 88.38888889, 83.16666667, 85.14285714, 86.42857143,\n",
       "       91.1       , 90.44444444, 91.1       , 83.        , 89.4       ,\n",
       "       88.61538462, 85.125     , 86.7       , 86.25      , 87.41176471,\n",
       "       88.        , 90.71428571, 85.87804878, 84.25      , 89.58823529,\n",
       "       87.33333333, 82.16666667, 88.5483871 , 86.9       , 82.16666667,\n",
       "       89.58823529, 84.04166667, 82.16666667, 91.07142857, 89.4       ,\n",
       "       85.60465116, 85.60465116, 85.87804878, 84.2       , 89.375     ,\n",
       "       82.16666667, 82.16666667, 88.38888889, 85.60465116, 82.16666667,\n",
       "       88.4375    , 87.27777778, 88.38888889, 86.69230769, 85.14285714,\n",
       "       87.41176471, 87.27777778, 87.41176471, 87.33333333, 89.375     ,\n",
       "       83.72727273, 87.41176471, 82.16666667, 85.87804878, 86.56666667,\n",
       "       88.13636364, 87.33333333, 86.56666667, 86.36363636, 84.2       ,\n",
       "       82.16666667, 87.33333333, 86.71428571, 89.58823529, 84.25      ,\n",
       "       88.        , 84.55555556, 89.375     , 85.87804878, 85.64705882,\n",
       "       83.16666667, 89.4       , 88.38888889, 84.55555556, 86.26315789,\n",
       "       88.4375    , 85.60465116, 85.87804878, 90.44444444, 85.60465116,\n",
       "       90.5       , 86.36363636, 84.04166667, 90.33333333, 89.44444444,\n",
       "       88.07692308, 87.27777778, 91.27586207, 82.16666667, 88.61538462,\n",
       "       87.41176471, 87.41176471, 87.41176471, 85.5       , 86.56666667,\n",
       "       85.        , 84.2       , 89.4       , 86.25      , 87.33333333,\n",
       "       85.60465116, 82.16666667, 85.60465116, 88.61538462, 84.5       ,\n",
       "       85.14285714, 83.16666667, 90.5       , 82.16666667, 91.07142857,\n",
       "       87.5       , 86.16666667, 86.26315789, 86.26315789, 86.26315789,\n",
       "       85.60465116, 85.60465116, 88.        , 86.71428571, 88.5483871 ,\n",
       "       83.16666667, 85.60465116, 84.2       , 85.60465116, 91.27586207,\n",
       "       91.1       , 86.56666667, 84.5       , 88.5483871 , 86.26315789,\n",
       "       85.        , 91.14285714, 82.16666667, 90.83333333, 84.55555556,\n",
       "       84.04166667, 88.13636364, 87.41176471, 88.61538462, 82.83333333,\n",
       "       89.4       , 84.2       , 89.4       , 89.4       , 85.64705882,\n",
       "       86.7       , 84.04166667, 84.29411765, 86.        , 82.16666667,\n",
       "       85.60465116, 84.5       , 90.71428571, 87.5       , 82.16666667,\n",
       "       82.16666667, 88.13636364, 86.69230769, 88.4375    , 85.87804878,\n",
       "       90.71428571, 82.16666667, 85.87804878, 85.87804878, 86.16666667,\n",
       "       85.60465116, 86.36363636, 84.04166667, 86.69230769, 88.        ,\n",
       "       83.27272727, 90.5       , 88.5483871 , 91.1       , 85.64705882,\n",
       "       84.2       , 84.5       , 86.56666667, 86.9       , 87.41176471,\n",
       "       84.5       , 85.14285714, 89.4       , 83.        , 83.33333333,\n",
       "       85.64705882, 91.27586207, 87.33333333, 91.14285714, 83.27272727,\n",
       "       89.4       , 90.71428571, 87.2       , 87.41176471, 85.60465116,\n",
       "       88.4375    , 86.26315789, 91.27586207, 84.29411765, 86.        ,\n",
       "       85.60465116, 85.60465116, 86.42857143, 85.5       , 85.14285714,\n",
       "       85.64705882, 86.91666667, 90.83333333, 85.14285714, 88.4375    ,\n",
       "       88.4375    , 87.41176471, 84.04166667, 88.38888889, 89.375     ,\n",
       "       85.60465116, 85.        , 91.27586207, 85.87804878, 87.41176471])"
      ]
     },
     "execution_count": 50,
     "metadata": {},
     "output_type": "execute_result"
    }
   ],
   "source": [
    "pred4"
   ]
  },
  {
   "cell_type": "code",
   "execution_count": 51,
   "id": "df7bf6b0",
   "metadata": {},
   "outputs": [
    {
     "name": "stdout",
     "output_type": "stream",
     "text": [
      "Accuracy of the Decision Tree Regressor  model comes to be: \n",
      " \n",
      "0.7563900990886958\n"
     ]
    }
   ],
   "source": [
    "print(\"Accuracy of the Decision Tree Regressor  model comes to be: \\n \") \n",
    "print(reg4.score(x_train,y_train))"
   ]
  },
  {
   "cell_type": "code",
   "execution_count": 52,
   "id": "eb9fb96a",
   "metadata": {},
   "outputs": [
    {
     "name": "stdout",
     "output_type": "stream",
     "text": [
      "Model\t\t\t RootMeanSquareError \t\t Accuracy of the model\n",
      "Linear Regression \t\t 1.8464 \t \t\t 0.5831\n",
      "Lasso Regression \t\t 1.9581 \t \t\t 0.5569\n",
      "Ridge Regression \t\t 1.8465 \t \t\t 0.5831\n",
      "Decision Tree Regressor\t\t 1.5042 \t \t\t 0.7564\n"
     ]
    }
   ],
   "source": [
    "import numpy as np\n",
    "from sklearn.metrics import mean_squared_error\n",
    "print(\"Model\\t\\t\\t RootMeanSquareError \\t\\t Accuracy of the model\") \n",
    "print(\"\"\"Linear Regression \\t\\t {:.4f} \\t \\t\\t {:.4f}\"\"\".format(  np.sqrt(mean_squared_error(y_test, pred1)), reg1.score(x_train,y_train)))\n",
    "print(\"\"\"Lasso Regression \\t\\t {:.4f} \\t \\t\\t {:.4f}\"\"\".format(  np.sqrt(mean_squared_error(y_test, pred2)), reg2.score(x_train,y_train)))\n",
    "print(\"\"\"Ridge Regression \\t\\t {:.4f} \\t \\t\\t {:.4f}\"\"\".format(  np.sqrt(mean_squared_error(y_test, pred3)), reg3.score(x_train,y_train)))\n",
    "print(\"\"\"Decision Tree Regressor\\t\\t {:.4f} \\t \\t\\t {:.4f}\"\"\".format(  np.sqrt(mean_squared_error(y_test, pred4)), reg4.score(x_train,y_train)))"
   ]
  }
 ],
 "metadata": {
  "kernelspec": {
   "display_name": "Python 3",
   "language": "python",
   "name": "python3"
  },
  "language_info": {
   "codemirror_mode": {
    "name": "ipython",
    "version": 3
   },
   "file_extension": ".py",
   "mimetype": "text/x-python",
   "name": "python",
   "nbconvert_exporter": "python",
   "pygments_lexer": "ipython3",
   "version": "3.8.8"
  }
 },
 "nbformat": 4,
 "nbformat_minor": 5
}
