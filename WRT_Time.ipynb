{
 "cells": [
  {
   "cell_type": "code",
   "execution_count": 10,
   "id": "8f48a9de",
   "metadata": {},
   "outputs": [],
   "source": [
    "import pandas as pd\n",
    "import numpy as np"
   ]
  },
  {
   "cell_type": "code",
   "execution_count": 12,
   "id": "1129a652",
   "metadata": {},
   "outputs": [],
   "source": [
    "data= pd.read_csv(r'F:\\VIT\\Internet of Things\\Project\\airQualityData.csv')"
   ]
  },
  {
   "cell_type": "code",
   "execution_count": 7,
   "id": "8b1a5c29",
   "metadata": {},
   "outputs": [
    {
     "data": {
      "text/html": [
       "<div>\n",
       "<style scoped>\n",
       "    .dataframe tbody tr th:only-of-type {\n",
       "        vertical-align: middle;\n",
       "    }\n",
       "\n",
       "    .dataframe tbody tr th {\n",
       "        vertical-align: top;\n",
       "    }\n",
       "\n",
       "    .dataframe thead th {\n",
       "        text-align: right;\n",
       "    }\n",
       "</style>\n",
       "<table border=\"1\" class=\"dataframe\">\n",
       "  <thead>\n",
       "    <tr style=\"text-align: right;\">\n",
       "      <th></th>\n",
       "      <th>Date</th>\n",
       "      <th>Time</th>\n",
       "      <th>AirQuality</th>\n",
       "      <th>CO</th>\n",
       "      <th>Humidity</th>\n",
       "      <th>Temperature</th>\n",
       "    </tr>\n",
       "  </thead>\n",
       "  <tbody>\n",
       "    <tr>\n",
       "      <th>0</th>\n",
       "      <td>2021-12-01</td>\n",
       "      <td>13:07:40.612026</td>\n",
       "      <td>86</td>\n",
       "      <td>47</td>\n",
       "      <td>61.0</td>\n",
       "      <td>30.8</td>\n",
       "    </tr>\n",
       "    <tr>\n",
       "      <th>1</th>\n",
       "      <td>2021-12-01</td>\n",
       "      <td>13:07:40.628009</td>\n",
       "      <td>85</td>\n",
       "      <td>46</td>\n",
       "      <td>61.0</td>\n",
       "      <td>30.8</td>\n",
       "    </tr>\n",
       "    <tr>\n",
       "      <th>2</th>\n",
       "      <td>2021-12-01</td>\n",
       "      <td>13:07:42.083012</td>\n",
       "      <td>82</td>\n",
       "      <td>51</td>\n",
       "      <td>61.0</td>\n",
       "      <td>30.8</td>\n",
       "    </tr>\n",
       "    <tr>\n",
       "      <th>3</th>\n",
       "      <td>2021-12-01</td>\n",
       "      <td>13:07:43.601984</td>\n",
       "      <td>85</td>\n",
       "      <td>50</td>\n",
       "      <td>61.0</td>\n",
       "      <td>30.8</td>\n",
       "    </tr>\n",
       "    <tr>\n",
       "      <th>4</th>\n",
       "      <td>2021-12-01</td>\n",
       "      <td>13:07:45.105018</td>\n",
       "      <td>81</td>\n",
       "      <td>50</td>\n",
       "      <td>61.0</td>\n",
       "      <td>30.8</td>\n",
       "    </tr>\n",
       "    <tr>\n",
       "      <th>...</th>\n",
       "      <td>...</td>\n",
       "      <td>...</td>\n",
       "      <td>...</td>\n",
       "      <td>...</td>\n",
       "      <td>...</td>\n",
       "      <td>...</td>\n",
       "    </tr>\n",
       "    <tr>\n",
       "      <th>1141</th>\n",
       "      <td>2021-12-01</td>\n",
       "      <td>13:54:49.246432</td>\n",
       "      <td>93</td>\n",
       "      <td>55</td>\n",
       "      <td>67.0</td>\n",
       "      <td>31.3</td>\n",
       "    </tr>\n",
       "    <tr>\n",
       "      <th>1142</th>\n",
       "      <td>2021-12-01</td>\n",
       "      <td>13:54:51.277008</td>\n",
       "      <td>90</td>\n",
       "      <td>52</td>\n",
       "      <td>67.0</td>\n",
       "      <td>31.3</td>\n",
       "    </tr>\n",
       "    <tr>\n",
       "      <th>1143</th>\n",
       "      <td>2021-12-01</td>\n",
       "      <td>13:54:53.307616</td>\n",
       "      <td>93</td>\n",
       "      <td>56</td>\n",
       "      <td>67.0</td>\n",
       "      <td>31.3</td>\n",
       "    </tr>\n",
       "    <tr>\n",
       "      <th>1144</th>\n",
       "      <td>2021-12-01</td>\n",
       "      <td>13:54:55.338232</td>\n",
       "      <td>93</td>\n",
       "      <td>56</td>\n",
       "      <td>68.0</td>\n",
       "      <td>31.3</td>\n",
       "    </tr>\n",
       "    <tr>\n",
       "      <th>1145</th>\n",
       "      <td>2021-12-01</td>\n",
       "      <td>13:54:57.352952</td>\n",
       "      <td>93</td>\n",
       "      <td>54</td>\n",
       "      <td>68.0</td>\n",
       "      <td>31.3</td>\n",
       "    </tr>\n",
       "  </tbody>\n",
       "</table>\n",
       "<p>1146 rows × 6 columns</p>\n",
       "</div>"
      ],
      "text/plain": [
       "            Date             Time  AirQuality  CO  Humidity  Temperature\n",
       "0     2021-12-01  13:07:40.612026          86  47      61.0         30.8\n",
       "1     2021-12-01  13:07:40.628009          85  46      61.0         30.8\n",
       "2     2021-12-01  13:07:42.083012          82  51      61.0         30.8\n",
       "3     2021-12-01  13:07:43.601984          85  50      61.0         30.8\n",
       "4     2021-12-01  13:07:45.105018          81  50      61.0         30.8\n",
       "...          ...              ...         ...  ..       ...          ...\n",
       "1141  2021-12-01  13:54:49.246432          93  55      67.0         31.3\n",
       "1142  2021-12-01  13:54:51.277008          90  52      67.0         31.3\n",
       "1143  2021-12-01  13:54:53.307616          93  56      67.0         31.3\n",
       "1144  2021-12-01  13:54:55.338232          93  56      68.0         31.3\n",
       "1145  2021-12-01  13:54:57.352952          93  54      68.0         31.3\n",
       "\n",
       "[1146 rows x 6 columns]"
      ]
     },
     "execution_count": 7,
     "metadata": {},
     "output_type": "execute_result"
    }
   ],
   "source": [
    "data"
   ]
  },
  {
   "cell_type": "code",
   "execution_count": 13,
   "id": "613863bc",
   "metadata": {},
   "outputs": [
    {
     "data": {
      "text/plain": [
       "Index(['Time', 'AirQuality', 'CO', 'Humidity', 'Temperature'], dtype='object')"
      ]
     },
     "execution_count": 13,
     "metadata": {},
     "output_type": "execute_result"
    }
   ],
   "source": [
    "newdata=data.drop(['Date'],axis=1)\n",
    "newdata.columns"
   ]
  },
  {
   "cell_type": "code",
   "execution_count": 14,
   "id": "13589b9d",
   "metadata": {},
   "outputs": [],
   "source": [
    "data_mean = newdata[\"CO\"].mean()"
   ]
  },
  {
   "cell_type": "code",
   "execution_count": 15,
   "id": "aad2fb29",
   "metadata": {},
   "outputs": [
    {
     "name": "stdout",
     "output_type": "stream",
     "text": [
      "51.22949389179756\n"
     ]
    }
   ],
   "source": [
    "print(data_mean)"
   ]
  },
  {
   "cell_type": "code",
   "execution_count": 18,
   "id": "a75bcb98",
   "metadata": {},
   "outputs": [],
   "source": [
    "data_mean = newdata[\"Humidity\"].mean()"
   ]
  },
  {
   "cell_type": "code",
   "execution_count": 19,
   "id": "f26ad53b",
   "metadata": {},
   "outputs": [
    {
     "name": "stdout",
     "output_type": "stream",
     "text": [
      "62.93019197207679\n"
     ]
    }
   ],
   "source": [
    "print(data_mean)"
   ]
  },
  {
   "cell_type": "code",
   "execution_count": 21,
   "id": "840fe893",
   "metadata": {},
   "outputs": [],
   "source": [
    "data_mean = newdata[\"AirQuality\"].mean()"
   ]
  },
  {
   "cell_type": "code",
   "execution_count": 23,
   "id": "aa4555b9",
   "metadata": {},
   "outputs": [
    {
     "name": "stdout",
     "output_type": "stream",
     "text": [
      "86.81239092495638\n"
     ]
    }
   ],
   "source": [
    "print(data_mean)"
   ]
  },
  {
   "cell_type": "code",
   "execution_count": 24,
   "id": "be60f98b",
   "metadata": {},
   "outputs": [],
   "source": [
    "data_mean = newdata[\"Temperature\"].mean()"
   ]
  },
  {
   "cell_type": "code",
   "execution_count": 25,
   "id": "1b222d64",
   "metadata": {},
   "outputs": [
    {
     "name": "stdout",
     "output_type": "stream",
     "text": [
      "30.72260034904001\n"
     ]
    }
   ],
   "source": [
    "print(data_mean)"
   ]
  },
  {
   "cell_type": "code",
   "execution_count": 27,
   "id": "b76993ba",
   "metadata": {},
   "outputs": [],
   "source": [
    "data_median = newdata[\"AirQuality\"].median()"
   ]
  },
  {
   "cell_type": "code",
   "execution_count": 28,
   "id": "4663ea90",
   "metadata": {},
   "outputs": [
    {
     "name": "stdout",
     "output_type": "stream",
     "text": [
      "87.0\n"
     ]
    }
   ],
   "source": [
    "print(data_median)"
   ]
  },
  {
   "cell_type": "code",
   "execution_count": 29,
   "id": "251da772",
   "metadata": {},
   "outputs": [],
   "source": [
    "data_median = newdata[\"Temperature\"].median()"
   ]
  },
  {
   "cell_type": "code",
   "execution_count": 30,
   "id": "6382b59b",
   "metadata": {},
   "outputs": [
    {
     "name": "stdout",
     "output_type": "stream",
     "text": [
      "30.8\n"
     ]
    }
   ],
   "source": [
    "print(data_median)"
   ]
  },
  {
   "cell_type": "code",
   "execution_count": 31,
   "id": "13583478",
   "metadata": {},
   "outputs": [],
   "source": [
    "data_median = newdata[\"CO\"].median()"
   ]
  },
  {
   "cell_type": "code",
   "execution_count": 32,
   "id": "529d718c",
   "metadata": {},
   "outputs": [
    {
     "name": "stdout",
     "output_type": "stream",
     "text": [
      "51.0\n"
     ]
    }
   ],
   "source": [
    "print(data_median)"
   ]
  },
  {
   "cell_type": "code",
   "execution_count": 33,
   "id": "eaf1b662",
   "metadata": {},
   "outputs": [],
   "source": [
    "data_median = newdata[\"Humidity\"].median()"
   ]
  },
  {
   "cell_type": "code",
   "execution_count": 34,
   "id": "66c022ee",
   "metadata": {},
   "outputs": [
    {
     "name": "stdout",
     "output_type": "stream",
     "text": [
      "63.0\n"
     ]
    }
   ],
   "source": [
    "print(data_median)"
   ]
  },
  {
   "cell_type": "code",
   "execution_count": 36,
   "id": "eea93a75",
   "metadata": {},
   "outputs": [],
   "source": [
    "data_mode = newdata[\"AirQuality\"].mode()"
   ]
  },
  {
   "cell_type": "code",
   "execution_count": 37,
   "id": "99b9b5de",
   "metadata": {},
   "outputs": [
    {
     "name": "stdout",
     "output_type": "stream",
     "text": [
      "0    89\n",
      "dtype: int64\n"
     ]
    }
   ],
   "source": [
    "print(data_mode)"
   ]
  },
  {
   "cell_type": "code",
   "execution_count": 41,
   "id": "ea5f2077",
   "metadata": {},
   "outputs": [],
   "source": [
    "data_mode = newdata[\"CO\"].mode()"
   ]
  },
  {
   "cell_type": "code",
   "execution_count": 42,
   "id": "b621bcac",
   "metadata": {},
   "outputs": [
    {
     "name": "stdout",
     "output_type": "stream",
     "text": [
      "0    53\n",
      "dtype: int64\n"
     ]
    }
   ],
   "source": [
    "print(data_mode)"
   ]
  },
  {
   "cell_type": "code",
   "execution_count": 44,
   "id": "858e1f1e",
   "metadata": {},
   "outputs": [],
   "source": [
    "data_mode = newdata[\"Humidity\"].mode()"
   ]
  },
  {
   "cell_type": "code",
   "execution_count": 45,
   "id": "caefd68f",
   "metadata": {},
   "outputs": [
    {
     "name": "stdout",
     "output_type": "stream",
     "text": [
      "0    62.0\n",
      "dtype: float64\n"
     ]
    }
   ],
   "source": [
    "print(data_mode)"
   ]
  },
  {
   "cell_type": "code",
   "execution_count": 47,
   "id": "3185c320",
   "metadata": {},
   "outputs": [],
   "source": [
    "data_mode = newdata[\"Temperature\"].mode()"
   ]
  },
  {
   "cell_type": "code",
   "execution_count": 48,
   "id": "d564f77e",
   "metadata": {},
   "outputs": [
    {
     "name": "stdout",
     "output_type": "stream",
     "text": [
      "0    30.2\n",
      "dtype: float64\n"
     ]
    }
   ],
   "source": [
    "print(data_mode)"
   ]
  },
  {
   "cell_type": "code",
   "execution_count": 51,
   "id": "27b1d6fe",
   "metadata": {},
   "outputs": [],
   "source": [
    "data_std = newdata[\"AirQuality\"].std()"
   ]
  },
  {
   "cell_type": "code",
   "execution_count": 52,
   "id": "610e4ece",
   "metadata": {},
   "outputs": [
    {
     "data": {
      "text/plain": [
       "2.768926777867673"
      ]
     },
     "execution_count": 52,
     "metadata": {},
     "output_type": "execute_result"
    }
   ],
   "source": [
    "data_std"
   ]
  },
  {
   "cell_type": "code",
   "execution_count": 54,
   "id": "cc5d489b",
   "metadata": {},
   "outputs": [],
   "source": [
    "data_std = newdata[\"CO\"].std()"
   ]
  },
  {
   "cell_type": "code",
   "execution_count": 56,
   "id": "adb5bad0",
   "metadata": {},
   "outputs": [
    {
     "data": {
      "text/plain": [
       "2.5464493829228276"
      ]
     },
     "execution_count": 56,
     "metadata": {},
     "output_type": "execute_result"
    }
   ],
   "source": [
    "data_std"
   ]
  },
  {
   "cell_type": "code",
   "execution_count": 58,
   "id": "378badfa",
   "metadata": {},
   "outputs": [],
   "source": [
    "data_std = newdata[\"Humidity\"].std()"
   ]
  },
  {
   "cell_type": "code",
   "execution_count": 59,
   "id": "f2a99685",
   "metadata": {},
   "outputs": [
    {
     "data": {
      "text/plain": [
       "2.3531852162132263"
      ]
     },
     "execution_count": 59,
     "metadata": {},
     "output_type": "execute_result"
    }
   ],
   "source": [
    "data_std"
   ]
  },
  {
   "cell_type": "code",
   "execution_count": 60,
   "id": "39789ca1",
   "metadata": {},
   "outputs": [],
   "source": [
    "data_std = newdata[\"Temperature\"].std()"
   ]
  },
  {
   "cell_type": "code",
   "execution_count": 61,
   "id": "d5be0ac7",
   "metadata": {},
   "outputs": [
    {
     "data": {
      "text/plain": [
       "0.3785108155912179"
      ]
     },
     "execution_count": 61,
     "metadata": {},
     "output_type": "execute_result"
    }
   ],
   "source": [
    "data_std"
   ]
  },
  {
   "cell_type": "code",
   "execution_count": null,
   "id": "69bdb876",
   "metadata": {},
   "outputs": [],
   "source": []
  }
 ],
 "metadata": {
  "kernelspec": {
   "display_name": "Python 3",
   "language": "python",
   "name": "python3"
  },
  "language_info": {
   "codemirror_mode": {
    "name": "ipython",
    "version": 3
   },
   "file_extension": ".py",
   "mimetype": "text/x-python",
   "name": "python",
   "nbconvert_exporter": "python",
   "pygments_lexer": "ipython3",
   "version": "3.8.8"
  }
 },
 "nbformat": 4,
 "nbformat_minor": 5
}
